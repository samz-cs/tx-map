{
 "cells": [
  {
   "cell_type": "code",
   "execution_count": 7,
   "id": "7647ced5",
   "metadata": {},
   "outputs": [
    {
     "name": "stdout",
     "output_type": "stream",
     "text": [
      "Index(['County', 'GEOID', 'anglo', 'anglovap', 'asian', 'asianvap', 'bh',\n",
      "       'bhvap', 'black', 'blackvap', 'density', 'hisp', 'hispvap', 'nanglo',\n",
      "       'nanglovap', 'official_boundary', 'pct_dem_lead', 'vap', 'votes_dem',\n",
      "       'votes_rep', 'votes_total', 'state', 'total', 'area_sqmi',\n",
      "       'college_enroll', 'bachelors_up_total_sum', '20_trump', '20_biden',\n",
      "       '18_cruz', '18_orourke', '20_total', '18_total', 'pct_dem_lead_18',\n",
      "       'pct_dem_lead_20', '18-34_sum', '35-54_sum', '55-64_sum', '65+_sum',\n",
      "       'veteran_sum', 'active_duty_sum', 'anglovap_pct', 'asianvap_pct',\n",
      "       'hispvap_pct', 'blackvap_pct', 'college_enroll_pct',\n",
      "       'bachelors_up_total_sum_pct', '18-34_sum_pct', '35-54_sum_pct',\n",
      "       '55-64_sum_pct', '65+_sum_pct', 'veteran_sum_pct',\n",
      "       'active_duty_sum_pct', 'not_bachelors_pct', 'bg_households_sum',\n",
      "       'bg_aggregate_income_sum'],\n",
      "      dtype='object')\n",
      "County                          0\n",
      "GEOID                           0\n",
      "anglo                           2\n",
      "anglovap                        0\n",
      "asian                           2\n",
      "asianvap                        0\n",
      "bh                              2\n",
      "bhvap                           2\n",
      "black                           2\n",
      "blackvap                        0\n",
      "density                         0\n",
      "hisp                            2\n",
      "hispvap                         0\n",
      "nanglo                          2\n",
      "nanglovap                       0\n",
      "official_boundary               0\n",
      "pct_dem_lead                    0\n",
      "vap                             0\n",
      "votes_dem                       0\n",
      "votes_rep                       0\n",
      "votes_total                     0\n",
      "state                           0\n",
      "total                           2\n",
      "area_sqmi                       0\n",
      "college_enroll                  0\n",
      "bachelors_up_total_sum          0\n",
      "20_trump                        0\n",
      "20_biden                        0\n",
      "18_cruz                         0\n",
      "18_orourke                      0\n",
      "20_total                        0\n",
      "18_total                        0\n",
      "pct_dem_lead_18               217\n",
      "pct_dem_lead_20               213\n",
      "18-34_sum                       0\n",
      "35-54_sum                       0\n",
      "55-64_sum                       0\n",
      "65+_sum                         0\n",
      "veteran_sum                     0\n",
      "active_duty_sum                 0\n",
      "anglovap_pct                   24\n",
      "asianvap_pct                   24\n",
      "hispvap_pct                    24\n",
      "blackvap_pct                   24\n",
      "college_enroll_pct             23\n",
      "bachelors_up_total_sum_pct     22\n",
      "18-34_sum_pct                  22\n",
      "35-54_sum_pct                  22\n",
      "55-64_sum_pct                  22\n",
      "65+_sum_pct                    22\n",
      "veteran_sum_pct                22\n",
      "active_duty_sum_pct            24\n",
      "not_bachelors_pct              22\n",
      "bg_households_sum               0\n",
      "bg_aggregate_income_sum         0\n",
      "dtype: int64\n"
     ]
    }
   ],
   "source": [
    "import pandas as pd\n",
    "import numpy as np\n",
    "\n",
    "df_cur = pd.read_csv(\"../merge_vets.csv\")\n",
    "df_inc_hh = pd.read_csv(\"precincts_income_hh.csv\")\n",
    "df_cur = df_cur.merge(df_inc_hh, on=\"GEOID\", how=\"left\")\n",
    "print(df_cur.columns)\n",
    "print(df_cur.isnull().sum())\n",
    "df_cur = df_cur.rename(columns={\n",
    "    \"bg_households_sum\": \"households\",\n",
    "    \"bg_aggregate_income_sum\": \"aggregateincome\"\n",
    "})\n",
    "\n",
    "df_cur = df_cur[['County', 'GEOID', 'anglo', 'anglovap', 'asian', 'asianvap', 'bh',\n",
    "       'bhvap', 'black', 'blackvap', 'density', 'hisp', 'hispvap', 'nanglo',\n",
    "       'nanglovap', 'official_boundary', 'pct_dem_lead', 'vap', 'votes_dem',\n",
    "       'votes_rep', 'votes_total', 'state', 'total', 'area_sqmi', \n",
    "       'college_enroll', 'bachelors_up_total_sum', '20_trump', '20_biden',\n",
    "       'pct_dem_lead_20','households','aggregateincome', 'anglovap_pct', 'asianvap_pct',\n",
    "       'hispvap_pct', 'blackvap_pct', 'college_enroll_pct',\n",
    "       'bachelors_up_total_sum_pct' ]]\n",
    "\n",
    "df_cur['avg_hh_income'] = df_cur['aggregateincome'] / df_cur['households']\n",
    "df_cur[\"shift_20_to_24\"] = df_cur[\"pct_dem_lead\"] - df_cur[\"pct_dem_lead_20\"]\n",
    "\n",
    "df_cur.to_csv(\"demographics.csv\", index=False)\n",
    "\n"
   ]
  },
  {
   "cell_type": "code",
   "execution_count": null,
   "id": "02b2e6cc",
   "metadata": {},
   "outputs": [
    {
     "name": "stdout",
     "output_type": "stream",
     "text": [
      "213\n"
     ]
    }
   ],
   "source": []
  }
 ],
 "metadata": {
  "kernelspec": {
   "display_name": ".venv",
   "language": "python",
   "name": "python3"
  },
  "language_info": {
   "codemirror_mode": {
    "name": "ipython",
    "version": 3
   },
   "file_extension": ".py",
   "mimetype": "text/x-python",
   "name": "python",
   "nbconvert_exporter": "python",
   "pygments_lexer": "ipython3",
   "version": "3.13.2"
  }
 },
 "nbformat": 4,
 "nbformat_minor": 5
}
