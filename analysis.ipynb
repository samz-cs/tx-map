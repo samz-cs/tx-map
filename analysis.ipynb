{
 "cells": [
  {
   "cell_type": "code",
   "execution_count": null,
   "id": "e540301e",
   "metadata": {},
   "outputs": [],
   "source": [
    "import pandas as pd\n",
    "!pip install plotnine\n",
    "from plotnine import  ggplot, aes, geom_point, geom_line, labs, theme_minimal, facet_wrap, theme\n",
    "import statsmodels.api as sm\n",
    "import numpy as np\n",
    "\n"
   ]
  },
  {
   "cell_type": "code",
   "execution_count": 141,
   "id": "f1d675c5",
   "metadata": {},
   "outputs": [
    {
     "name": "stdout",
     "output_type": "stream",
     "text": [
      "Index(['County', 'GEOID', 'anglo', 'anglovap', 'asian', 'asianvap', 'bh',\n",
      "       'bhvap', 'black', 'blackvap', 'density', 'hisp', 'hispvap', 'nanglo',\n",
      "       'nanglovap', 'official_boundary', 'pct_dem_lead', 'vap', 'votes_dem',\n",
      "       'votes_rep', 'votes_total', 'state', 'total', 'area_sqmi',\n",
      "       'college_enroll', 'bachelors_up_total_sum', '20_trump', '20_biden',\n",
      "       '20_total', 'pct_dem_lead_20', 'households', 'aggregateincome',\n",
      "       'anglovap_pct', 'asianvap_pct', 'hispvap_pct', 'blackvap_pct',\n",
      "       'college_enroll_pct', 'bachelors_up_total_sum_pct', 'avg_hh_income',\n",
      "       'shift_20_to_24'],\n",
      "      dtype='object')\n"
     ]
    }
   ],
   "source": [
    "df = pd.read_csv(\"demographics.csv\")\n",
    "print(df.columns)"
   ]
  },
  {
   "cell_type": "code",
   "execution_count": 142,
   "id": "41c585f9",
   "metadata": {},
   "outputs": [
    {
     "name": "stdout",
     "output_type": "stream",
     "text": [
      "21943677.879743718\n"
     ]
    }
   ],
   "source": [
    "df_counties = df.groupby(\"County\", as_index=False)[['anglo', 'anglovap', 'asian', 'asianvap', 'bh',\n",
    "       'bhvap', 'black', 'blackvap', 'hisp', 'hispvap', 'nanglo',\n",
    "       'nanglovap','vap', 'votes_dem','votes_rep', 'votes_total', 'college_enroll', \n",
    "       'bachelors_up_total_sum', '20_trump', '20_biden',\n",
    "       'aggregateincome', '20_total', 'total', 'households'\n",
    "       ]].sum()\n",
    "\n",
    "df_counties['anglovap_pct'] = df_counties['anglovap'] / df_counties['vap']\n",
    "df_counties['asianvap_pct'] = df_counties['asianvap'] / df_counties['vap']\n",
    "df_counties['hispvap_pct'] = df_counties['hispvap'] / df_counties['vap']\n",
    "df_counties['blackvap_pct'] = df_counties['blackvap'] / df_counties['vap']\n",
    "df_counties['college_enroll_pct'] = df_counties['college_enroll'] / df_counties['vap']\n",
    "df_counties['bachelors_up_total_sum_pct'] = df_counties['bachelors_up_total_sum'] / df_counties['vap']\n",
    "df_counties['pct_dem_lead'] = df_counties['votes_dem'] / df_counties['votes_total'] - df_counties['votes_rep'] / df_counties['votes_total']\n",
    "df_counties['pct_dem_lead_20'] = df_counties['20_biden'] / df_counties['20_total'] - df_counties['20_trump'] / df_counties['20_total']\n",
    "df_counties['avg_hh_income'] = df_counties['aggregateincome'] / df_counties['households']\n",
    "df_counties[\"swing_2024\"] = df_counties[\"pct_dem_lead\"] - df_counties[\"pct_dem_lead_20\"]\n",
    "print(df_counties[\"avg_hh_income\"].sum())\n",
    "# density\n",
    "df_counties.to_csv(\"county_demographics.csv\", index=False)"
   ]
  },
  {
   "cell_type": "markdown",
   "id": "2186929b",
   "metadata": {},
   "source": [
    "## poc counties x shift\n"
   ]
  },
  {
   "cell_type": "markdown",
   "id": "ad78fecc",
   "metadata": {},
   "source": [
    "college ed x shift"
   ]
  },
  {
   "cell_type": "code",
   "execution_count": 145,
   "id": "53d88124",
   "metadata": {},
   "outputs": [
    {
     "name": "stdout",
     "output_type": "stream",
     "text": [
      "-0.08062126509529405\n",
      "213\n"
     ]
    }
   ],
   "source": [
    "rel_df = pd.read_csv(\"demographics.csv\")\n",
    "pct_2020_dem = rel_df[\"20_biden\"].sum() / rel_df[\"20_total\"].sum()\n",
    "pct_2020_rep = rel_df[\"20_trump\"].sum() / rel_df[\"20_total\"].sum()\n",
    "pct_2020_margin = pct_2020_dem - pct_2020_rep\n",
    "pct_2024_dem = rel_df[\"votes_dem\"].sum() / rel_df[\"votes_total\"].sum()\n",
    "pct_2024_rep = rel_df[\"votes_rep\"].sum() / rel_df[\"votes_total\"].sum()\n",
    "pct_2024_margin = pct_2024_dem - pct_2024_rep\n",
    "pct_2024_margin_change = pct_2024_margin - pct_2020_margin\n",
    "print(pct_2024_margin_change)\n",
    "rel_df[\"relative_shift\"] = rel_df[\"shift_20_to_24\"] - pct_2024_margin_change\n",
    "print(rel_df[\"relative_shift\"].isna().sum())\n",
    "rel_df.to_csv(\"demographics.csv\", index=False)\n",
    "\n",
    "\n"
   ]
  },
  {
   "cell_type": "code",
   "execution_count": 147,
   "id": "6db25292",
   "metadata": {},
   "outputs": [
    {
     "name": "stdout",
     "output_type": "stream",
     "text": [
      "count    9505.000000\n",
      "mean        0.007097\n",
      "std         0.138109\n",
      "min        -1.533959\n",
      "25%        -0.044379\n",
      "50%         0.028451\n",
      "75%         0.072661\n",
      "max         2.080621\n",
      "Name: relative_shift, dtype: float64\n"
     ]
    }
   ],
   "source": [
    "print(rel_df[\"relative_shift\"].describe())"
   ]
  },
  {
   "cell_type": "code",
   "execution_count": 150,
   "id": "463755ec",
   "metadata": {},
   "outputs": [
    {
     "name": "stdout",
     "output_type": "stream",
     "text": [
      "count      1513.000000\n",
      "mean     118048.679183\n",
      "std       51997.339808\n",
      "min           0.000000\n",
      "25%       82672.503092\n",
      "50%      107580.184508\n",
      "75%      141671.399177\n",
      "max      421132.203390\n",
      "Name: avg_hh_income, dtype: float64\n"
     ]
    }
   ],
   "source": [
    "gains = rel_df[rel_df[\"shift_20_to_24\"] > 0.01]\n",
    "print(gains[\"avg_hh_income\"].describe())"
   ]
  }
 ],
 "metadata": {
  "kernelspec": {
   "display_name": ".venv",
   "language": "python",
   "name": "python3"
  },
  "language_info": {
   "codemirror_mode": {
    "name": "ipython",
    "version": 3
   },
   "file_extension": ".py",
   "mimetype": "text/x-python",
   "name": "python",
   "nbconvert_exporter": "python",
   "pygments_lexer": "ipython3",
   "version": "3.13.2"
  }
 },
 "nbformat": 4,
 "nbformat_minor": 5
}
