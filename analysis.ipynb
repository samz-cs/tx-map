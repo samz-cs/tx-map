{
 "cells": [
  {
   "cell_type": "code",
   "execution_count": 33,
   "id": "e540301e",
   "metadata": {},
   "outputs": [
    {
     "name": "stdout",
     "output_type": "stream",
     "text": [
      "Requirement already satisfied: plotnine in ./.venv/lib/python3.13/site-packages (0.15.0)\n",
      "Requirement already satisfied: matplotlib>=3.8.0 in ./.venv/lib/python3.13/site-packages (from plotnine) (3.10.6)\n",
      "Requirement already satisfied: pandas>=2.2.0 in ./.venv/lib/python3.13/site-packages (from plotnine) (2.3.2)\n",
      "Requirement already satisfied: mizani~=0.14.0 in ./.venv/lib/python3.13/site-packages (from plotnine) (0.14.2)\n",
      "Requirement already satisfied: numpy>=1.23.5 in ./.venv/lib/python3.13/site-packages (from plotnine) (2.3.3)\n",
      "Requirement already satisfied: scipy>=1.8.0 in ./.venv/lib/python3.13/site-packages (from plotnine) (1.16.2)\n",
      "Requirement already satisfied: statsmodels>=0.14.5 in ./.venv/lib/python3.13/site-packages (from plotnine) (0.14.5)\n",
      "Requirement already satisfied: contourpy>=1.0.1 in ./.venv/lib/python3.13/site-packages (from matplotlib>=3.8.0->plotnine) (1.3.3)\n",
      "Requirement already satisfied: cycler>=0.10 in ./.venv/lib/python3.13/site-packages (from matplotlib>=3.8.0->plotnine) (0.12.1)\n",
      "Requirement already satisfied: fonttools>=4.22.0 in ./.venv/lib/python3.13/site-packages (from matplotlib>=3.8.0->plotnine) (4.60.1)\n",
      "Requirement already satisfied: kiwisolver>=1.3.1 in ./.venv/lib/python3.13/site-packages (from matplotlib>=3.8.0->plotnine) (1.4.9)\n",
      "Requirement already satisfied: packaging>=20.0 in ./.venv/lib/python3.13/site-packages (from matplotlib>=3.8.0->plotnine) (25.0)\n",
      "Requirement already satisfied: pillow>=8 in ./.venv/lib/python3.13/site-packages (from matplotlib>=3.8.0->plotnine) (11.3.0)\n",
      "Requirement already satisfied: pyparsing>=2.3.1 in ./.venv/lib/python3.13/site-packages (from matplotlib>=3.8.0->plotnine) (3.2.5)\n",
      "Requirement already satisfied: python-dateutil>=2.7 in ./.venv/lib/python3.13/site-packages (from matplotlib>=3.8.0->plotnine) (2.9.0.post0)\n",
      "Requirement already satisfied: pytz>=2020.1 in ./.venv/lib/python3.13/site-packages (from pandas>=2.2.0->plotnine) (2025.2)\n",
      "Requirement already satisfied: tzdata>=2022.7 in ./.venv/lib/python3.13/site-packages (from pandas>=2.2.0->plotnine) (2025.2)\n",
      "Requirement already satisfied: six>=1.5 in ./.venv/lib/python3.13/site-packages (from python-dateutil>=2.7->matplotlib>=3.8.0->plotnine) (1.17.0)\n",
      "Requirement already satisfied: patsy>=0.5.6 in ./.venv/lib/python3.13/site-packages (from statsmodels>=0.14.5->plotnine) (1.0.1)\n"
     ]
    }
   ],
   "source": [
    "import pandas as pd\n",
    "!pip install plotnine\n",
    "from plotnine import  ggplot, aes, geom_point, geom_line, labs, theme_minimal, facet_wrap, theme\n",
    "import statsmodels.api as sm\n",
    "import numpy as np\n",
    "\n"
   ]
  },
  {
   "cell_type": "code",
   "execution_count": 2,
   "id": "f1d675c5",
   "metadata": {},
   "outputs": [
    {
     "name": "stdout",
     "output_type": "stream",
     "text": [
      "Index(['County', 'GEOID', 'anglo', 'anglovap', 'asian', 'asianvap', 'bh',\n",
      "       'bhvap', 'black', 'blackvap', 'density', 'hisp', 'hispvap', 'nanglo',\n",
      "       'nanglovap', 'official_boundary', 'pct_dem_lead', 'vap', 'votes_dem',\n",
      "       'votes_rep', 'votes_total', 'state', 'total', 'area_sqmi',\n",
      "       'college_enroll', 'bachelors_up_total_sum', '20_trump', '20_biden',\n",
      "       '18_cruz', '18_orourke', '20_total', '18_total', 'pct_dem_lead_18',\n",
      "       'pct_dem_lead_20', '18-34_sum', '35-54_sum', '55-64_sum', '65+_sum',\n",
      "       'veteran_sum', 'active_duty_sum', 'anglovap_pct', 'asianvap_pct',\n",
      "       'hispvap_pct', 'blackvap_pct', 'college_enroll_pct',\n",
      "       'bachelors_up_total_sum_pct', '18-34_sum_pct', '35-54_sum_pct',\n",
      "       '55-64_sum_pct', '65+_sum_pct', 'veteran_sum_pct',\n",
      "       'active_duty_sum_pct', 'not_bachelors_pct'],\n",
      "      dtype='object')\n"
     ]
    }
   ],
   "source": [
    "df = pd.read_csv(\"merge_vets.csv\")\n",
    "print(df.columns)"
   ]
  },
  {
   "cell_type": "code",
   "execution_count": null,
   "id": "68e9526c",
   "metadata": {},
   "outputs": [
    {
     "name": "stdout",
     "output_type": "stream",
     "text": [
      "1.0\n",
      "-1.0\n",
      "1.0\n",
      "-1.0\n"
     ]
    }
   ],
   "source": [
    "\n"
   ]
  },
  {
   "cell_type": "code",
   "execution_count": 16,
   "id": "41c585f9",
   "metadata": {},
   "outputs": [],
   "source": [
    "df_counties = df.groupby(\"County\", as_index=False)[['anglo', 'anglovap', 'asian', 'asianvap', 'bh',\n",
    "       'bhvap', 'black', 'blackvap', 'hisp', 'hispvap', 'nanglo',\n",
    "       'nanglovap','vap', 'votes_dem','votes_rep', 'votes_total', 'college_enroll', \n",
    "       'bachelors_up_total_sum', '20_trump', '20_biden',\n",
    "       '18_cruz', '18_orourke', '20_total', '18_total'\n",
    "       ]].sum()\n",
    "\n",
    "df_counties['anglovap_pct'] = df_counties['anglovap'] / df_counties['vap']\n",
    "df_counties['asianvap_pct'] = df_counties['asianvap'] / df_counties['vap']\n",
    "df_counties['hispvap_pct'] = df_counties['hispvap'] / df_counties['vap']\n",
    "df_counties['blackvap_pct'] = df_counties['blackvap'] / df_counties['vap']\n",
    "df_counties['college_enroll_pct'] = df_counties['college_enroll'] / df_counties['vap']\n",
    "df_counties['bachelors_up_total_sum_pct'] = df_counties['bachelors_up_total_sum'] / df_counties['vap']\n",
    "df_counties['pct_dem_lead'] = df_counties['votes_dem'] / df_counties['votes_total'] - df_counties['votes_rep'] / df_counties['votes_total']\n",
    "df_counties['pct_dem_lead_20'] = df_counties['20_biden'] / df_counties['20_total'] - df_counties['20_trump'] / df_counties['20_total']\n",
    "\n",
    "# density"
   ]
  },
  {
   "cell_type": "code",
   "execution_count": 17,
   "id": "e19bedef",
   "metadata": {},
   "outputs": [
    {
     "name": "stdout",
     "output_type": "stream",
     "text": [
      "11394783\n"
     ]
    }
   ],
   "source": [
    "print(df_counties[\"votes_total\"].sum())"
   ]
  },
  {
   "cell_type": "code",
   "execution_count": null,
   "id": "25d83f8a",
   "metadata": {},
   "outputs": [
    {
     "ename": "ModuleNotFoundError",
     "evalue": "No module named 'plotly'",
     "output_type": "error",
     "traceback": [
      "\u001b[31m---------------------------------------------------------------------------\u001b[39m",
      "\u001b[31mModuleNotFoundError\u001b[39m                       Traceback (most recent call last)",
      "\u001b[36mCell\u001b[39m\u001b[36m \u001b[39m\u001b[32mIn[48]\u001b[39m\u001b[32m, line 4\u001b[39m\n\u001b[32m      2\u001b[39m \u001b[38;5;28;01mimport\u001b[39;00m\u001b[38;5;250m \u001b[39m\u001b[34;01mnumpy\u001b[39;00m\u001b[38;5;250m \u001b[39m\u001b[38;5;28;01mas\u001b[39;00m\u001b[38;5;250m \u001b[39m\u001b[34;01mnp\u001b[39;00m\n\u001b[32m      3\u001b[39m \u001b[38;5;28;01mimport\u001b[39;00m\u001b[38;5;250m \u001b[39m\u001b[34;01mstatsmodels\u001b[39;00m\u001b[34;01m.\u001b[39;00m\u001b[34;01mapi\u001b[39;00m\u001b[38;5;250m \u001b[39m\u001b[38;5;28;01mas\u001b[39;00m\u001b[38;5;250m \u001b[39m\u001b[34;01msm\u001b[39;00m\n\u001b[32m----> \u001b[39m\u001b[32m4\u001b[39m \u001b[38;5;28;01mimport\u001b[39;00m\u001b[38;5;250m \u001b[39m\u001b[34;01mplotly\u001b[39;00m\u001b[34;01m.\u001b[39;00m\u001b[34;01mexpress\u001b[39;00m\u001b[38;5;250m \u001b[39m\u001b[38;5;28;01mas\u001b[39;00m\u001b[38;5;250m \u001b[39m\u001b[34;01mpx\u001b[39;00m\n\u001b[32m      5\u001b[39m \u001b[38;5;28;01mimport\u001b[39;00m\u001b[38;5;250m \u001b[39m\u001b[34;01mplotly\u001b[39;00m\u001b[34;01m.\u001b[39;00m\u001b[34;01mgraph_objects\u001b[39;00m\u001b[38;5;250m \u001b[39m\u001b[38;5;28;01mas\u001b[39;00m\u001b[38;5;250m \u001b[39m\u001b[34;01mgo\u001b[39;00m\n\u001b[32m      7\u001b[39m \u001b[38;5;66;03m# ---------- Config ----------\u001b[39;00m\n",
      "\u001b[31mModuleNotFoundError\u001b[39m: No module named 'plotly'"
     ]
    }
   ],
   "source": [
    "# Linear regression: change in dem margin (2024-2020) vs Hispanic VAP (%)\n",
    "\n",
    "# Load data\n",
    "csv_path = 'merge_vets.csv'  # relative to project root\n",
    "_df = pd.read_csv(\"merge_vets.csv\")\n",
    "\n",
    "var = \"hispvap_pct\"\n",
    "\n",
    "# Ensure numeric columns\n",
    "cols = ['pct_dem_lead', 'pct_dem_lead_20', var,'votes_total','20_total']\n",
    "for c in cols:\n",
    "    _df[c] = pd.to_numeric(_df[c], errors='coerce')\n",
    "\n",
    "# Compute changes (percentage points)\n",
    "df_lr = _df.copy()\n",
    "df_lr = df_lr[(df_lr['votes_total'] > 50) & (df_lr['20_total'] > 50)]\n",
    "df_lr = df_lr.dropna(subset=['pct_dem_lead', 'pct_dem_lead_20', var])\n",
    "df_lr['delta_pp'] = (df_lr['pct_dem_lead'] - df_lr['pct_dem_lead_20']) * 100.0\n",
    "# Convert share to % for readability\n",
    "\n",
    "# Plot: scatter + linear regression line\n",
    "(\n",
    "    ggplot(df_lr, aes(x=var, y='delta_pp'))\n",
    "    + geom_point(alpha=0.35, size=1.4, color='#2a6db0')\n",
    "    + geom_smooth(method='lm', se=True, color='#d83b3b')\n",
    "    + labs(\n",
    "        title='Change in Dem margin (2024 - 2020) vs Hispanic VAP',\n",
    "        x='Hispanic VAP (%)',\n",
    "        y='Change in Dem margin (pp)'\n",
    "    )\n",
    "    + theme_minimal()\n",
    ")\n"
   ]
  },
  {
   "cell_type": "code",
   "execution_count": 51,
   "id": "8974b11e",
   "metadata": {},
   "outputs": [
    {
     "name": "stdout",
     "output_type": "stream",
     "text": [
      "Requirement already satisfied: plotly in ./.venv/lib/python3.13/site-packages (6.3.1)\n",
      "Requirement already satisfied: narwhals>=1.15.1 in ./.venv/lib/python3.13/site-packages (from plotly) (2.7.0)\n",
      "Requirement already satisfied: packaging in ./.venv/lib/python3.13/site-packages (from plotly) (25.0)\n",
      "Collecting nbformat\n",
      "  Using cached nbformat-5.10.4-py3-none-any.whl.metadata (3.6 kB)\n",
      "Collecting fastjsonschema>=2.15 (from nbformat)\n",
      "  Using cached fastjsonschema-2.21.2-py3-none-any.whl.metadata (2.3 kB)\n",
      "Collecting jsonschema>=2.6 (from nbformat)\n",
      "  Using cached jsonschema-4.25.1-py3-none-any.whl.metadata (7.6 kB)\n",
      "Requirement already satisfied: jupyter-core!=5.0.*,>=4.12 in ./.venv/lib/python3.13/site-packages (from nbformat) (5.8.1)\n",
      "Requirement already satisfied: traitlets>=5.1 in ./.venv/lib/python3.13/site-packages (from nbformat) (5.14.3)\n",
      "Collecting attrs>=22.2.0 (from jsonschema>=2.6->nbformat)\n",
      "  Downloading attrs-25.4.0-py3-none-any.whl.metadata (10 kB)\n",
      "Collecting jsonschema-specifications>=2023.03.6 (from jsonschema>=2.6->nbformat)\n",
      "  Using cached jsonschema_specifications-2025.9.1-py3-none-any.whl.metadata (2.9 kB)\n",
      "Collecting referencing>=0.28.4 (from jsonschema>=2.6->nbformat)\n",
      "  Using cached referencing-0.36.2-py3-none-any.whl.metadata (2.8 kB)\n",
      "Collecting rpds-py>=0.7.1 (from jsonschema>=2.6->nbformat)\n",
      "  Using cached rpds_py-0.27.1-cp313-cp313-macosx_11_0_arm64.whl.metadata (4.2 kB)\n",
      "Requirement already satisfied: platformdirs>=2.5 in ./.venv/lib/python3.13/site-packages (from jupyter-core!=5.0.*,>=4.12->nbformat) (4.4.0)\n",
      "Using cached nbformat-5.10.4-py3-none-any.whl (78 kB)\n",
      "Using cached fastjsonschema-2.21.2-py3-none-any.whl (24 kB)\n",
      "Using cached jsonschema-4.25.1-py3-none-any.whl (90 kB)\n",
      "Downloading attrs-25.4.0-py3-none-any.whl (67 kB)\n",
      "Using cached jsonschema_specifications-2025.9.1-py3-none-any.whl (18 kB)\n",
      "Using cached referencing-0.36.2-py3-none-any.whl (26 kB)\n",
      "Using cached rpds_py-0.27.1-cp313-cp313-macosx_11_0_arm64.whl (345 kB)\n",
      "Installing collected packages: fastjsonschema, rpds-py, attrs, referencing, jsonschema-specifications, jsonschema, nbformat\n",
      "\u001b[2K   \u001b[90m━━━━━━━━━━━━━━━━━━━━━━━━━━━━━━━━━━━━━━━━\u001b[0m \u001b[32m7/7\u001b[0m [nbformat]6/7\u001b[0m [nbformat]\n",
      "\u001b[1A\u001b[2KSuccessfully installed attrs-25.4.0 fastjsonschema-2.21.2 jsonschema-4.25.1 jsonschema-specifications-2025.9.1 nbformat-5.10.4 referencing-0.36.2 rpds-py-0.27.1\n"
     ]
    }
   ],
   "source": [
    "import pandas as pd\n",
    "import numpy as np\n",
    "import statsmodels.api as sm\n",
    "!pip install plotly\n",
    "import plotly.express as px\n",
    "import plotly.graph_objects as go\n",
    "!pip install nbformat\n",
    "\n"
   ]
  },
  {
   "cell_type": "code",
   "execution_count": 54,
   "id": "9d1bb161",
   "metadata": {},
   "outputs": [],
   "source": [
    "\n",
    "# ---------- Config ----------\n",
    "csv_path   = \"merge_vets.csv\"\n",
    "x_var      = \"anglovap_pct\"      # X variable (e.g., Hispanic/Anglo VAP %)\n",
    "county_col = \"County\"            # <-- set to your county column name\n",
    "id_col     = \"GEOID\"       # <-- set to your precinct/ID column name\n",
    "weight_col = \"total\"             # weights for WLS (change if needed)\n",
    "\n",
    "# ---------- Load & clean ----------\n",
    "df = pd.read_csv(csv_path)\n",
    "num_cols = ['pct_dem_lead', 'pct_dem_lead_20', x_var, 'votes_total', '20_total', weight_col]\n",
    "for c in num_cols:\n",
    "    df[c] = pd.to_numeric(df[c], errors='coerce')\n",
    "\n",
    "# Filter + compute outcome (Δ Dem margin in pp)\n",
    "df = df[(df['votes_total'] > 50) & (df['20_total'] > 50)]\n",
    "df = df.dropna(subset=['pct_dem_lead', 'pct_dem_lead_20', x_var, weight_col])\n",
    "df['delta_pp'] = (df['pct_dem_lead'] - df['pct_dem_lead_20']) * 100.0\n",
    "\n",
    "# ---------- Fit OLS & WLS ----------\n",
    "X = sm.add_constant(df[[x_var]])\n",
    "y = df['delta_pp']\n",
    "w = df[weight_col].clip(lower=1)  # avoid zero/neg weights\n",
    "\n",
    "ols = sm.OLS(y, X).fit()\n",
    "wls = sm.WLS(y, X, weights=w).fit()\n",
    "\n",
    "# Prediction grid\n",
    "x_grid = np.linspace(df[x_var].min(), df[x_var].max(), 200)\n",
    "Xg = sm.add_constant(pd.DataFrame({x_var: x_grid}))\n",
    "yhat_ols = ols.predict(Xg)\n",
    "yhat_wls = wls.predict(Xg)\n",
    "\n",
    "# ---------- Scatter (interactive) ----------\n",
    "fig = px.scatter(\n",
    "    df,\n",
    "    x=x_var, y='delta_pp',\n",
    "    opacity=0.5,\n",
    "    hover_data={\n",
    "        county_col: True,\n",
    "        id_col: True,\n",
    "        x_var: ':.2f',\n",
    "        'delta_pp': ':.2f',\n",
    "        weight_col: ':.0f'\n",
    "    },\n",
    "    labels={\n",
    "        x_var: f'{x_var} (%)',\n",
    "        'delta_pp': 'Change in Dem margin (pp)'\n",
    "    },\n",
    "    title=f'Change in Dem margin (2024 − 2020) vs {x_var} (hover for {county_col}/{id_col})'\n",
    ")\n",
    "\n",
    "# ---------- Add regression lines ----------\n",
    "fig.add_trace(go.Scatter(\n",
    "    x=x_grid, y=yhat_ols,\n",
    "    mode='lines',\n",
    "    name='Unweighted OLS',\n",
    "    line=dict(width=3, color='red')\n",
    "))\n",
    "fig.add_trace(go.Scatter(\n",
    "    x=x_grid, y=yhat_wls,\n",
    "    mode='lines',\n",
    "    name=f'Weighted by {weight_col}',\n",
    "    line=dict(width=3, dash='dash', color='red')\n",
    "))\n",
    "\n",
    "# Prettify axes/grid\n",
    "fig.update_layout(\n",
    "    template='plotly_white',\n",
    "    legend=dict(x=0.01, y=0.99),\n",
    ")\n",
    "fig.update_xaxes(showspikes=True)\n",
    "fig.update_yaxes(showspikes=True)\n",
    "\n",
    "# ---------- Show in notebook ----------\n",
    "fig.show(renderer=\"browser\")\n",
    "\n",
    "# ---------- (Optional) Save as a standalone HTML you can open/share ----------\n",
    "# fig.write_html(\"reg_scatter_interactive.html\", include_plotlyjs=\"cdn\", auto_open=True)\n"
   ]
  }
 ],
 "metadata": {
  "kernelspec": {
   "display_name": ".venv",
   "language": "python",
   "name": "python3"
  },
  "language_info": {
   "codemirror_mode": {
    "name": "ipython",
    "version": 3
   },
   "file_extension": ".py",
   "mimetype": "text/x-python",
   "name": "python",
   "nbconvert_exporter": "python",
   "pygments_lexer": "ipython3",
   "version": "3.13.2"
  }
 },
 "nbformat": 4,
 "nbformat_minor": 5
}
